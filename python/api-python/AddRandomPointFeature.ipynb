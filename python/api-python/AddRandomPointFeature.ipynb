{
 "cells": [
  {
   "cell_type": "markdown",
   "metadata": {},
   "source": [
    "## Welcome to your notebook.\n"
   ]
  },
  {
   "cell_type": "markdown",
   "metadata": {},
   "source": [
    "#### Run this cell to connect to your GIS and get started:"
   ]
  },
  {
   "cell_type": "code",
   "execution_count": 16,
   "metadata": {},
   "outputs": [
    {
     "name": "stderr",
     "output_type": "stream",
     "text": [
      "/opt/conda/lib/python3.9/site-packages/arcgis/gis/__init__.py:597: UserWarning: You are logged on as KatieW_support with an administrator role, proceed with caution.\n",
      "  warnings.warn(\n"
     ]
    }
   ],
   "source": [
    "#import modules\n",
    "import arcgis\n",
    "import random\n",
    "#connect to GIS\n",
    "gis = arcgis.GIS(\"home\")"
   ]
  },
  {
   "cell_type": "markdown",
   "metadata": {},
   "source": [
    "#### Now you are ready to start!"
   ]
  },
  {
   "cell_type": "code",
   "execution_count": 22,
   "metadata": {},
   "outputs": [
    {
     "data": {
      "text/plain": [
       "{\n",
       "  \"xmin\": -17811118.526923772,\n",
       "  \"ymin\": -15538711.096309224,\n",
       "  \"xmax\": 17811118.526923772,\n",
       "  \"ymax\": 15538711.096309224,\n",
       "  \"spatialReference\": {\n",
       "    \"wkid\": 102100,\n",
       "    \"latestWkid\": 3857\n",
       "  }\n",
       "}"
      ]
     },
     "execution_count": 22,
     "metadata": {},
     "output_type": "execute_result"
    }
   ],
   "source": [
    "#Specify REST URL of layer which will have the random points\n",
    "layerUrl = \"https://services.arcgis.com/Wl7Y1m92PbjtJs5n/arcgis/rest/services/WebHookNotebook/FeatureServer/0\"\n",
    "fLayer = arcgis.features.FeatureLayer(layerUrl,gis)\n",
    "\n",
    "#If needed, call upon the layer's properties to find it's extent and WKID\n",
    "fLayer.properties.extent"
   ]
  },
  {
   "cell_type": "code",
   "execution_count": 61,
   "metadata": {},
   "outputs": [
    {
     "data": {
      "text/html": [
       "<div>\n",
       "<style scoped>\n",
       "    .dataframe tbody tr th:only-of-type {\n",
       "        vertical-align: middle;\n",
       "    }\n",
       "\n",
       "    .dataframe tbody tr th {\n",
       "        vertical-align: top;\n",
       "    }\n",
       "\n",
       "    .dataframe thead th {\n",
       "        text-align: right;\n",
       "    }\n",
       "</style>\n",
       "<table border=\"1\" class=\"dataframe\">\n",
       "  <thead>\n",
       "    <tr style=\"text-align: right;\">\n",
       "      <th></th>\n",
       "      <th>OBJECTID</th>\n",
       "      <th>GlobalID</th>\n",
       "      <th>CreationDate</th>\n",
       "      <th>Creator</th>\n",
       "      <th>EditDate</th>\n",
       "      <th>Editor</th>\n",
       "      <th>SHAPE</th>\n",
       "    </tr>\n",
       "  </thead>\n",
       "  <tbody>\n",
       "    <tr>\n",
       "      <th>0</th>\n",
       "      <td>1</td>\n",
       "      <td>7e72a621-edd1-4007-a2f3-aacdb5ad20b4</td>\n",
       "      <td>2022-07-27 20:51:47.655000</td>\n",
       "      <td>KatieW_support</td>\n",
       "      <td>2022-07-27 20:51:47.655000</td>\n",
       "      <td>KatieW_support</td>\n",
       "      <td>{\"x\": -8882912.295198042, \"y\": 5363408.0123168...</td>\n",
       "    </tr>\n",
       "    <tr>\n",
       "      <th>1</th>\n",
       "      <td>2</td>\n",
       "      <td>3bfb3c67-b805-42ac-b48d-71cd4597ed0f</td>\n",
       "      <td>2022-07-27 20:52:00.180000</td>\n",
       "      <td>KatieW_support</td>\n",
       "      <td>2022-07-27 20:52:00.180000</td>\n",
       "      <td>KatieW_support</td>\n",
       "      <td>{\"x\": -8883737.814170452, \"y\": 5363499.7376838...</td>\n",
       "    </tr>\n",
       "    <tr>\n",
       "      <th>2</th>\n",
       "      <td>3</td>\n",
       "      <td>b0a69dcd-30fc-4217-af7c-320ba60269ad</td>\n",
       "      <td>2022-08-15 19:00:42.732000</td>\n",
       "      <td>KatieW_support</td>\n",
       "      <td>2022-08-15 19:00:42.732000</td>\n",
       "      <td>KatieW_support</td>\n",
       "      <td>None</td>\n",
       "    </tr>\n",
       "    <tr>\n",
       "      <th>3</th>\n",
       "      <td>4</td>\n",
       "      <td>532bd0cb-52c9-4b7b-9df2-fd4a4e472041</td>\n",
       "      <td>2022-08-15 19:12:17.786000</td>\n",
       "      <td>KatieW_support</td>\n",
       "      <td>2022-08-15 19:12:17.786000</td>\n",
       "      <td>KatieW_support</td>\n",
       "      <td>None</td>\n",
       "    </tr>\n",
       "    <tr>\n",
       "      <th>4</th>\n",
       "      <td>5</td>\n",
       "      <td>307238e8-80f7-4041-b8de-6a802c754f94</td>\n",
       "      <td>2022-08-15 19:15:03.416999</td>\n",
       "      <td>KatieW_support</td>\n",
       "      <td>2022-08-15 19:15:03.416999</td>\n",
       "      <td>KatieW_support</td>\n",
       "      <td>None</td>\n",
       "    </tr>\n",
       "    <tr>\n",
       "      <th>5</th>\n",
       "      <td>6</td>\n",
       "      <td>cfcb025e-fc80-401f-aacd-facebbf64b6e</td>\n",
       "      <td>2022-08-15 19:22:41.500000</td>\n",
       "      <td>KatieW_support</td>\n",
       "      <td>2022-08-15 19:22:41.500000</td>\n",
       "      <td>KatieW_support</td>\n",
       "      <td>None</td>\n",
       "    </tr>\n",
       "    <tr>\n",
       "      <th>6</th>\n",
       "      <td>7</td>\n",
       "      <td>49b4084b-ca57-4b59-85a1-b642912085e2</td>\n",
       "      <td>2022-08-15 19:23:03.868999</td>\n",
       "      <td>KatieW_support</td>\n",
       "      <td>2022-08-15 19:23:03.868999</td>\n",
       "      <td>KatieW_support</td>\n",
       "      <td>None</td>\n",
       "    </tr>\n",
       "    <tr>\n",
       "      <th>7</th>\n",
       "      <td>8</td>\n",
       "      <td>4e02d1ac-69a5-4891-b1a6-e32feff0a94e</td>\n",
       "      <td>2022-08-15 19:30:08.864000</td>\n",
       "      <td>KatieW_support</td>\n",
       "      <td>2022-08-15 19:30:08.864000</td>\n",
       "      <td>KatieW_support</td>\n",
       "      <td>None</td>\n",
       "    </tr>\n",
       "    <tr>\n",
       "      <th>8</th>\n",
       "      <td>9</td>\n",
       "      <td>57aa3328-1e16-415a-9cb3-58821a6110fb</td>\n",
       "      <td>2022-08-15 19:44:30.240999</td>\n",
       "      <td>KatieW_support</td>\n",
       "      <td>2022-08-15 19:44:30.240999</td>\n",
       "      <td>KatieW_support</td>\n",
       "      <td>None</td>\n",
       "    </tr>\n",
       "    <tr>\n",
       "      <th>9</th>\n",
       "      <td>10</td>\n",
       "      <td>9e740803-db7c-48d2-89ba-db885c89e749</td>\n",
       "      <td>2022-08-15 19:58:16.619000</td>\n",
       "      <td>KatieW_support</td>\n",
       "      <td>2022-08-15 19:58:16.619000</td>\n",
       "      <td>KatieW_support</td>\n",
       "      <td>None</td>\n",
       "    </tr>\n",
       "    <tr>\n",
       "      <th>10</th>\n",
       "      <td>11</td>\n",
       "      <td>001889d3-29f5-4563-9d5e-bb5959f789f7</td>\n",
       "      <td>2022-08-15 19:58:21.448000</td>\n",
       "      <td>KatieW_support</td>\n",
       "      <td>2022-08-15 19:58:21.448000</td>\n",
       "      <td>KatieW_support</td>\n",
       "      <td>None</td>\n",
       "    </tr>\n",
       "    <tr>\n",
       "      <th>11</th>\n",
       "      <td>12</td>\n",
       "      <td>6e8bccc0-7aa5-4c24-8ecb-2eadb97a5d85</td>\n",
       "      <td>2022-08-15 20:06:03.268000</td>\n",
       "      <td>KatieW_support</td>\n",
       "      <td>2022-08-15 20:06:03.268000</td>\n",
       "      <td>KatieW_support</td>\n",
       "      <td>None</td>\n",
       "    </tr>\n",
       "    <tr>\n",
       "      <th>12</th>\n",
       "      <td>13</td>\n",
       "      <td>9578d51a-d3b0-40e7-9f20-d91af4e14411</td>\n",
       "      <td>2022-08-15 20:08:59.069999</td>\n",
       "      <td>KatieW_support</td>\n",
       "      <td>2022-08-15 20:08:59.069999</td>\n",
       "      <td>KatieW_support</td>\n",
       "      <td>None</td>\n",
       "    </tr>\n",
       "    <tr>\n",
       "      <th>13</th>\n",
       "      <td>14</td>\n",
       "      <td>22c743f3-0dc1-4b08-b965-0a95b97d3489</td>\n",
       "      <td>2022-08-15 20:11:28.329999</td>\n",
       "      <td>KatieW_support</td>\n",
       "      <td>2022-08-15 20:11:28.329999</td>\n",
       "      <td>KatieW_support</td>\n",
       "      <td>{\"x\": 9435229, \"y\": 4152993, \"spatialReference...</td>\n",
       "    </tr>\n",
       "  </tbody>\n",
       "</table>\n",
       "</div>"
      ],
      "text/plain": [
       "    OBJECTID                              GlobalID               CreationDate  \\\n",
       "0          1  7e72a621-edd1-4007-a2f3-aacdb5ad20b4 2022-07-27 20:51:47.655000   \n",
       "1          2  3bfb3c67-b805-42ac-b48d-71cd4597ed0f 2022-07-27 20:52:00.180000   \n",
       "2          3  b0a69dcd-30fc-4217-af7c-320ba60269ad 2022-08-15 19:00:42.732000   \n",
       "3          4  532bd0cb-52c9-4b7b-9df2-fd4a4e472041 2022-08-15 19:12:17.786000   \n",
       "4          5  307238e8-80f7-4041-b8de-6a802c754f94 2022-08-15 19:15:03.416999   \n",
       "5          6  cfcb025e-fc80-401f-aacd-facebbf64b6e 2022-08-15 19:22:41.500000   \n",
       "6          7  49b4084b-ca57-4b59-85a1-b642912085e2 2022-08-15 19:23:03.868999   \n",
       "7          8  4e02d1ac-69a5-4891-b1a6-e32feff0a94e 2022-08-15 19:30:08.864000   \n",
       "8          9  57aa3328-1e16-415a-9cb3-58821a6110fb 2022-08-15 19:44:30.240999   \n",
       "9         10  9e740803-db7c-48d2-89ba-db885c89e749 2022-08-15 19:58:16.619000   \n",
       "10        11  001889d3-29f5-4563-9d5e-bb5959f789f7 2022-08-15 19:58:21.448000   \n",
       "11        12  6e8bccc0-7aa5-4c24-8ecb-2eadb97a5d85 2022-08-15 20:06:03.268000   \n",
       "12        13  9578d51a-d3b0-40e7-9f20-d91af4e14411 2022-08-15 20:08:59.069999   \n",
       "13        14  22c743f3-0dc1-4b08-b965-0a95b97d3489 2022-08-15 20:11:28.329999   \n",
       "\n",
       "           Creator                   EditDate          Editor  \\\n",
       "0   KatieW_support 2022-07-27 20:51:47.655000  KatieW_support   \n",
       "1   KatieW_support 2022-07-27 20:52:00.180000  KatieW_support   \n",
       "2   KatieW_support 2022-08-15 19:00:42.732000  KatieW_support   \n",
       "3   KatieW_support 2022-08-15 19:12:17.786000  KatieW_support   \n",
       "4   KatieW_support 2022-08-15 19:15:03.416999  KatieW_support   \n",
       "5   KatieW_support 2022-08-15 19:22:41.500000  KatieW_support   \n",
       "6   KatieW_support 2022-08-15 19:23:03.868999  KatieW_support   \n",
       "7   KatieW_support 2022-08-15 19:30:08.864000  KatieW_support   \n",
       "8   KatieW_support 2022-08-15 19:44:30.240999  KatieW_support   \n",
       "9   KatieW_support 2022-08-15 19:58:16.619000  KatieW_support   \n",
       "10  KatieW_support 2022-08-15 19:58:21.448000  KatieW_support   \n",
       "11  KatieW_support 2022-08-15 20:06:03.268000  KatieW_support   \n",
       "12  KatieW_support 2022-08-15 20:08:59.069999  KatieW_support   \n",
       "13  KatieW_support 2022-08-15 20:11:28.329999  KatieW_support   \n",
       "\n",
       "                                                SHAPE  \n",
       "0   {\"x\": -8882912.295198042, \"y\": 5363408.0123168...  \n",
       "1   {\"x\": -8883737.814170452, \"y\": 5363499.7376838...  \n",
       "2                                                None  \n",
       "3                                                None  \n",
       "4                                                None  \n",
       "5                                                None  \n",
       "6                                                None  \n",
       "7                                                None  \n",
       "8                                                None  \n",
       "9                                                None  \n",
       "10                                               None  \n",
       "11                                               None  \n",
       "12                                               None  \n",
       "13  {\"x\": 9435229, \"y\": 4152993, \"spatialReference...  "
      ]
     },
     "execution_count": 61,
     "metadata": {},
     "output_type": "execute_result"
    }
   ],
   "source": [
    "#Query the layer and use Pandas spatial dataframe object to visualize the data.\n",
    "prop = fLayer.query()\n",
    "prop.sdf"
   ]
  },
  {
   "cell_type": "code",
   "execution_count": 4,
   "metadata": {},
   "outputs": [
    {
     "data": {
      "text/plain": [
       "83"
      ]
     },
     "execution_count": 4,
     "metadata": {},
     "output_type": "execute_result"
    }
   ],
   "source": [
    "#Identify the current amount of records in the layer\n",
    "#Note that is may be useful to run this cell again at the end to confirm the script ran successfully and the random point was added\n",
    "recordcount = fLayer.query(return_count_only=True)\n",
    "recordcount"
   ]
  },
  {
   "cell_type": "code",
   "execution_count": 59,
   "metadata": {},
   "outputs": [
    {
     "data": {
      "text/plain": [
       "{'geometry': {'x': 9435229,\n",
       "  'y': 4152993,\n",
       "  'spatialReference': {'wkid': 102100, 'latestWkid': 3857}},\n",
       " 'attributes': {'SHAPE': {'x': 9435229,\n",
       "   'y': 4152993,\n",
       "   'spatialReference': {'wkid': 102100, 'latestWkid': 3857}}}}"
      ]
     },
     "execution_count": 59,
     "metadata": {},
     "output_type": "execute_result"
    }
   ],
   "source": [
    "#Create a range for the random x and y value\n",
    "rndx = random.randrange(-10883737,10883737) #randrange(start, stop, step)\n",
    "rndy = random.randrange(-8363499,8363499) #randrange(start, stop, step)\n",
    "\n",
    "#Specify new geometry for point feature layer\n",
    "newGeom = {\"x\":rndx,\"y\":rndy,\"spatialReference\": {'wkid': 102100, 'latestWkid': 3857}}\n",
    "newFeature = {\"geometry\": newGeom, \"attributes\": {\"SHAPE\": newGeom}} #add attributes as needed\n",
    "#Print new feature as confirmation test\n",
    "newFeature"
   ]
  },
  {
   "cell_type": "code",
   "execution_count": 60,
   "metadata": {},
   "outputs": [
    {
     "data": {
      "text/plain": [
       "{'addResults': [{'objectId': 14,\n",
       "   'uniqueId': 14,\n",
       "   'globalId': '22C743F3-0DC1-4B08-B965-0A95B97D3489',\n",
       "   'success': True}],\n",
       " 'updateResults': [],\n",
       " 'deleteResults': []}"
      ]
     },
     "execution_count": 60,
     "metadata": {},
     "output_type": "execute_result"
    }
   ],
   "source": [
    "#Edit the feature layer and add in the new feature\n",
    "addResult = fLayer.edit_features(adds=[newFeature])\n",
    "#Print result to confrim feature was added\n",
    "addResult"
   ]
  },
  {
   "cell_type": "code",
   "execution_count": null,
   "metadata": {},
   "outputs": [],
   "source": []
  }
 ],
 "metadata": {
  "esriNotebookRuntime": {
   "notebookRuntimeName": "ArcGIS Notebook Python 3 Standard",
   "notebookRuntimeVersion": "7.0"
  },
  "kernelspec": {
   "display_name": "Python 3",
   "language": "python",
   "name": "python3"
  },
  "language_info": {
   "codemirror_mode": {
    "name": "ipython",
    "version": 3
   },
   "file_extension": ".py",
   "mimetype": "text/x-python",
   "name": "python",
   "nbconvert_exporter": "python",
   "pygments_lexer": "ipython3",
   "version": "3.7.11"
  }
 },
 "nbformat": 4,
 "nbformat_minor": 2
}
